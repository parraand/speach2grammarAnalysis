{
 "cells": [
  {
   "cell_type": "markdown",
   "metadata": {},
   "source": [
    "# Test Andrés Parra Rodríguez\n",
    "Celular: +57 3202347640\n",
    "Correo: p.r.and@hotmail.com\n",
    "LinkedIn: https://www.linkedin.com/in/andresparrarod/\n",
    "\n",
    "\n",
    "Resumen\n",
    "\n",
    "Pipeline Sugerido:\n",
    "    1. Transcripcion \"raw\"\n",
    "    2. Extracción 5 fragmentos reprepsentativos (30s-60s) y transcripcion manual\n",
    "    3. transcript_raw → transcript_corrected\n",
    "    4. Evaluacion\n",
    "    5. Insights\n",
    "\n",
    "Anotaciones\n",
    "- Es como que hay una coversacion entre un profesor y un estudiante\n",
    "- Para transcripciones Wisper es gratis y local. Google Speech-to-Text (STT) es Gratis con límites. Azure igual\n"
   ]
  },
  {
   "cell_type": "markdown",
   "metadata": {},
   "source": [
    "## 1. Fragmentacion y obtencion gold"
   ]
  },
  {
   "cell_type": "code",
   "execution_count": 1,
   "metadata": {},
   "outputs": [],
   "source": [
    "from pydub import AudioSegment\n",
    "import pandas as pd\n",
    "import math\n",
    "import os\n",
    "from jiwer import wer, cer\n",
    "import whisper\n",
    "from transformers import pipeline\n",
    "import whisperx\n",
    "import matplotlib.pyplot as plt\n",
    "import numpy as np\n",
    "from difflib import ndiff\n",
    "from collections import Counter"
   ]
  },
  {
   "cell_type": "code",
   "execution_count": null,
   "metadata": {},
   "outputs": [
    {
     "name": "stdout",
     "output_type": "stream",
     "text": [
      "El archivo ya existe: transcript_gold.csv\n"
     ]
    }
   ],
   "source": [
    "# Cargar audio\n",
    "audio = AudioSegment.from_file(\"audio_full.m4a\")\n",
    "\n",
    "# Duración total en milisegundos\n",
    "duracion_ms = len(audio)\n",
    "# Duración de fragmentos en milisegundos (30 segundos)\n",
    "fragmento_ms = 30 * 1000\n",
    "# Número de fragmentos (-1 debido a que hay unos datos que no corresponden a audio)\n",
    "num_fragmentos = math.ceil(duracion_ms / fragmento_ms) - 1\n",
    "# Crear carpeta de salida\n",
    "os.makedirs(\"fragmentos\", exist_ok=True)\n",
    "dfCrops = pd.DataFrame()\n",
    "# Cortar y guardar fragmentos\n",
    "for i in range(num_fragmentos):\n",
    "    if i==0:\n",
    "        inicio = i * fragmento_ms\n",
    "    else:\n",
    "        inicio = i * fragmento_ms + 1\n",
    "    fin = (i + 1) * fragmento_ms\n",
    "    fragmento = audio[inicio:fin]\n",
    "    fragmento.export(f\"fragmentos/audio_parte_{i}.m4a\", format=\"ipod\")\n",
    "    dfCrops.loc[i, \"clip_id\"] = i\n",
    "    dfCrops.loc[i, \"start_time\"] = inicio\n",
    "    dfCrops.loc[i, \"end_time\"] = fin\n",
    "\n",
    "# Indices fragmentos para transcribir\n",
    "listaNOTrans = [0, 2, 4, 6, 8]\n",
    "# Preparacion df gold para guardarlo\n",
    "gold0 = dfCrops.copy()\n",
    "gold0[\"transcript_gold\"] = \"\"\n",
    "gold0[\"speaker\"] = \"\"\n",
    "gold0 = gold0.drop(listaNOTrans)\n",
    "# Nombre del archivo\n",
    "csv_file = \"transcript_gold.csv\"\n",
    "# Verifica si el archivo existe para no sobreescribirlo, ya que se llena luego a mano\n",
    "if not os.path.exists(csv_file):\n",
    "    # Guardar como CSV\n",
    "    gold0.to_csv(csv_file, index=False, sep=';', encoding='utf-8')\n",
    "    print(f\"Archivo creado: {csv_file}\")\n",
    "else:\n",
    "    print(f\"El archivo ya existe: {csv_file}\")"
   ]
  },
  {
   "cell_type": "markdown",
   "metadata": {},
   "source": [
    "## 2. Transcripción fragmentos"
   ]
  },
  {
   "cell_type": "markdown",
   "metadata": {},
   "source": [
    "2.1. Función para evaluación de resultados"
   ]
  },
  {
   "cell_type": "code",
   "execution_count": 5,
   "metadata": {},
   "outputs": [],
   "source": [
    "def werCerDf(dfGR):\n",
    "    # Calcular WER y CER para cada fila\n",
    "    results = []\n",
    "    for idx, row in dfGR.iterrows():\n",
    "        gold = row[\"transcript_gold\"]\n",
    "        raw = row[\"transcript_raw\"]\n",
    "        corr = row[\"transcript_raw_corr\"]\n",
    "        wer_raw = wer(gold, raw)\n",
    "        wer_corr = wer(gold, corr)\n",
    "        cer_raw = cer(gold, raw)\n",
    "        cer_corr = cer(gold, corr)\n",
    "        results.append({\n",
    "            \"audio_id\": row[\"audio_id\"],\n",
    "            \"WER_raw\": wer_raw,\n",
    "            \"WER_corr\": wer_corr,\n",
    "            \"CER_raw\": cer_raw,\n",
    "            \"CER_corr\": cer_corr,\n",
    "            \"WER_mejora_%\": 100 * (wer_raw - wer_corr) / wer_raw if wer_raw != 0 else 0,\n",
    "            \"CER_mejora_%\": 100 * (cer_raw - cer_corr) / cer_raw if cer_raw != 0 else 0,\n",
    "        })\n",
    "    # Convertir a DataFrame\n",
    "    df_resultados = pd.DataFrame(results)\n",
    "    # Mostrar tabla\n",
    "    print('\\n')\n",
    "    print(df_resultados[[\"audio_id\", \"WER_raw\", \"WER_corr\", \"CER_raw\", \"CER_corr\", \"WER_mejora_%\", \"CER_mejora_%\"]].round(2))\n",
    "    print(f\"\\nWER_mejora_%: {df_resultados['WER_mejora_%'].mean():.2f}\")\n",
    "    print(f\"CER_mejora_%: {df_resultados['CER_mejora_%'].mean():.2f}\")\n",
    "    print(f\"WER_raw_mean: {df_resultados['WER_raw'].mean():.2f}\")\n",
    "    print(f\"CER_raw_mean: {df_resultados['CER_raw'].mean():.2f}\")\n",
    "    print(f\"WER_corr_mean: {df_resultados['WER_corr'].mean():.2f}\")\n",
    "    print(f\"CER_corr_mean: {df_resultados['CER_corr'].mean():.2f}\")\n",
    "    return df_resultados"
   ]
  },
  {
   "cell_type": "markdown",
   "metadata": {},
   "source": [
    "### 2.1. Transcripción sin diarizacion"
   ]
  },
  {
   "cell_type": "code",
   "execution_count": null,
   "metadata": {},
   "outputs": [],
   "source": [
    "# Cargar modelo (Se puede usar: tiny, base, small, medium, large)\n",
    "model = whisper.load_model(\"large\")\n",
    "# Indices fragmentos para transcribir\n",
    "listaTrans = [1, 3, 5, 7, 9]\n",
    "dfRaw = pd.DataFrame()\n",
    "for i in listaTrans:\n",
    "    # Transcribir el audio\n",
    "    result = model.transcribe(f\"fragmentos/audio_parte_{i}.m4a\")\n",
    "    # Agrupa y guarda lo transcrito\n",
    "    text = result[\"text\"]\n",
    "    dfRaw.loc[i, \"audio_id\"] = i\n",
    "    dfRaw.loc[i, \"transcript_raw\"] = text\n",
    "\n",
    "# Guarda en CSV\n",
    "dfRaw.to_csv(\"transcript_raw.csv\", index=False, sep=';', encoding='utf-8')"
   ]
  },
  {
   "cell_type": "code",
   "execution_count": null,
   "metadata": {},
   "outputs": [
    {
     "name": "stderr",
     "output_type": "stream",
     "text": [
      "Device set to use cuda:0\n",
      "Both `max_new_tokens` (=256) and `max_length`(=512) seem to have been set. `max_new_tokens` will take precedence. Please refer to the documentation for more information. (https://huggingface.co/docs/transformers/main/en/main_classes/text_generation)\n",
      "Both `max_new_tokens` (=256) and `max_length`(=512) seem to have been set. `max_new_tokens` will take precedence. Please refer to the documentation for more information. (https://huggingface.co/docs/transformers/main/en/main_classes/text_generation)\n",
      "Both `max_new_tokens` (=256) and `max_length`(=512) seem to have been set. `max_new_tokens` will take precedence. Please refer to the documentation for more information. (https://huggingface.co/docs/transformers/main/en/main_classes/text_generation)\n",
      "Both `max_new_tokens` (=256) and `max_length`(=512) seem to have been set. `max_new_tokens` will take precedence. Please refer to the documentation for more information. (https://huggingface.co/docs/transformers/main/en/main_classes/text_generation)\n",
      "Both `max_new_tokens` (=256) and `max_length`(=512) seem to have been set. `max_new_tokens` will take precedence. Please refer to the documentation for more information. (https://huggingface.co/docs/transformers/main/en/main_classes/text_generation)\n"
     ]
    },
    {
     "name": "stdout",
     "output_type": "stream",
     "text": [
      "\n",
      "\n",
      "   audio_id  WER_raw  WER_corr  CER_raw  CER_corr  WER_mejora_%  CER_mejora_%\n",
      "0       1.0     0.29      0.25     0.20      0.20         15.79         -1.39\n",
      "1       3.0     0.46      0.43     0.29      0.30          8.00         -6.59\n",
      "2       5.0     0.40      0.44     0.22      0.24         -9.52         -7.94\n",
      "3       7.0     0.60      0.58     0.40      0.39          2.70          3.23\n",
      "4       9.0     0.16      0.15     0.09      0.06         11.11         34.62\n",
      "\n",
      "WER_mejora_%: 5.62\n",
      "CER_mejora_%: 4.38\n",
      "WER_raw_mean: 0.38\n",
      "CER_raw_mean: 0.24\n",
      "WER_corr_mean: 0.37\n",
      "CER_corr_mean: 0.24\n"
     ]
    }
   ],
   "source": [
    "# Lectura del df gold\n",
    "dfGold = pd.read_csv(\"transcript_gold.csv\", sep=';', encoding='utf-8-sig')\n",
    "# Unión del gold junto con lo transcrito (raw)\n",
    "dfGR = pd.merge(dfRaw, dfGold, left_on='audio_id', right_on='clip_id', how='inner')\n",
    "\n",
    "# Carga pipeline de corrección (inglés)\n",
    "corrector = pipeline(\"text2text-generation\", model=\"vennify/t5-base-grammar-correction\")\n",
    "# Funcion de corrección por fila\n",
    "def corregir(texto):\n",
    "    if pd.isna(texto) or not isinstance(texto, str):\n",
    "        return texto\n",
    "    resultado = corrector(f\"fix: {texto}\", max_length=512)[0]['generated_text']\n",
    "    return resultado\n",
    "# Asume que la columna con errores se llama 'transcript_raw'\n",
    "dfGR[\"transcript_raw_corr\"] = dfGR[\"transcript_raw\"].apply(corregir)\n",
    "\n",
    "# Calculo der WER CER con funcion\n",
    "df_resultados = werCerDf(dfGR)\n",
    "# Guardado mejor resultado para gráficas\n",
    "df_resultados_mejor = df_resultados.copy()"
   ]
  },
  {
   "cell_type": "markdown",
   "metadata": {},
   "source": [
    "### 2.2. Transcripcion con diarizacion"
   ]
  },
  {
   "cell_type": "code",
   "execution_count": null,
   "metadata": {},
   "outputs": [
    {
     "name": "stderr",
     "output_type": "stream",
     "text": [
      "Lightning automatically upgraded your loaded checkpoint from v1.5.4 to v2.5.2. To apply the upgrade to your files permanently, run `python -m pytorch_lightning.utilities.upgrade_checkpoint c:\\Users\\prand\\.conda\\envs\\python3.9\\lib\\site-packages\\whisperx\\assets\\pytorch_model.bin`\n"
     ]
    },
    {
     "name": "stdout",
     "output_type": "stream",
     "text": [
      ">>Performing voice activity detection using Pyannote...\n",
      "Model was trained with pyannote.audio 0.0.1, yours is 3.3.2. Bad things might happen unless you revert pyannote.audio to 0.x.\n",
      "Model was trained with torch 1.10.0+cu102, yours is 2.7.1+cu118. Bad things might happen unless you revert torch to 1.x.\n"
     ]
    },
    {
     "name": "stderr",
     "output_type": "stream",
     "text": [
      "c:\\Users\\prand\\.conda\\envs\\python3.9\\lib\\site-packages\\pyannote\\audio\\models\\blocks\\pooling.py:104: UserWarning: std(): degrees of freedom is <= 0. Correction should be strictly less than the reduction factor (input numel divided by output numel). (Triggered internally at C:\\actions-runner\\_work\\pytorch\\pytorch\\pytorch\\aten\\src\\ATen\\native\\ReduceOps.cpp:1839.)\n",
      "  std = sequences.std(dim=-1, correction=1)\n"
     ]
    }
   ],
   "source": [
    "# Cargar modelo\n",
    "modelDiar = whisperx.load_model(\"base\", device=\"cpu\", language=\"en\", compute_type=\"float32\")\n",
    "# Carga de token de Hugging Face\n",
    "with open(\"HFtoken.txt\") as f:\n",
    "    hf_token = f.read().strip()\n",
    "diarize_model = whisperx.diarize.DiarizationPipeline(use_auth_token=hf_token)\n",
    "\n",
    "    \n",
    "# Cargar modelo (Se puede usar: tiny, base, small, medium, large)\n",
    "modelTrans = whisper.load_model(\"base\")\n",
    "# Indices fragmentos para transcribir\n",
    "listaTrans = [1, 3, 5, 7, 9]\n",
    "dfRaw = pd.DataFrame()\n",
    "for i in listaTrans:\n",
    "    # Diarizacion\n",
    "    diarization = diarize_model(f\"fragmentos/audio_parte_{i}.m4a\", num_speakers=2)\n",
    "    # Cargar audio\n",
    "    audio = AudioSegment.from_file(f\"fragmentos/audio_parte_{i}.m4a\")\n",
    "    textOut = str()\n",
    "    # Cortar y guardar fragmentos\n",
    "    for f in range(len(diarization)):\n",
    "        inicio = int(diarization.loc[f, 'start'] * 1000)\n",
    "        fin = int(diarization.loc[f, 'end'] * 1000)\n",
    "        fragmento = audio[inicio:fin]\n",
    "        fragmento.export(f\"fragmentos_temp.m4a\", format=\"ipod\")\n",
    "        # Transcripción + alineación temporal\n",
    "        result = modelTrans.transcribe('fragmentos_temp.m4a')\n",
    "        text = result[\"text\"]\n",
    "        # textOut = textOut + diarization.loc[f, 'speaker'] + ': ' + text + \".n\\ \"\n",
    "        textOut += text + \".\"\n",
    "    \n",
    "    dfRaw.loc[i, \"audio_id\"] = i\n",
    "    dfRaw.loc[i, \"transcript_raw\"] = textOut\n",
    "\n",
    "# Guarda en CSV\n",
    "dfRaw.to_csv(\"transcript_raw.csv\", index=False, sep=';', encoding='utf-8')"
   ]
  },
  {
   "cell_type": "code",
   "execution_count": 6,
   "metadata": {},
   "outputs": [
    {
     "name": "stderr",
     "output_type": "stream",
     "text": [
      "Device set to use cuda:0\n",
      "Both `max_new_tokens` (=256) and `max_length`(=512) seem to have been set. `max_new_tokens` will take precedence. Please refer to the documentation for more information. (https://huggingface.co/docs/transformers/main/en/main_classes/text_generation)\n",
      "Both `max_new_tokens` (=256) and `max_length`(=512) seem to have been set. `max_new_tokens` will take precedence. Please refer to the documentation for more information. (https://huggingface.co/docs/transformers/main/en/main_classes/text_generation)\n",
      "Both `max_new_tokens` (=256) and `max_length`(=512) seem to have been set. `max_new_tokens` will take precedence. Please refer to the documentation for more information. (https://huggingface.co/docs/transformers/main/en/main_classes/text_generation)\n",
      "Both `max_new_tokens` (=256) and `max_length`(=512) seem to have been set. `max_new_tokens` will take precedence. Please refer to the documentation for more information. (https://huggingface.co/docs/transformers/main/en/main_classes/text_generation)\n",
      "Both `max_new_tokens` (=256) and `max_length`(=512) seem to have been set. `max_new_tokens` will take precedence. Please refer to the documentation for more information. (https://huggingface.co/docs/transformers/main/en/main_classes/text_generation)\n"
     ]
    },
    {
     "name": "stdout",
     "output_type": "stream",
     "text": [
      "\n",
      "\n",
      "   audio_id  WER_raw  WER_corr  CER_raw  CER_corr  WER_mejora_%  CER_mejora_%\n",
      "0       1.0     0.58      0.51     0.40      0.36         13.16         10.27\n",
      "1       3.0     0.63      0.52     0.46      0.34         17.65         25.68\n",
      "2       5.0     1.10      1.10     0.77      0.78          0.00         -1.36\n",
      "3       7.0     0.55      0.48     0.43      0.35         11.76         19.40\n",
      "4       9.0     0.64      0.53     0.44      0.31         17.14         29.01\n",
      "\n",
      "WER_mejora_%: 11.94\n",
      "CER_mejora_%: 16.60\n",
      "WER_raw_mean: 0.70\n",
      "CER_raw_mean: 0.50\n",
      "WER_corr_mean: 0.63\n",
      "CER_corr_mean: 0.43\n"
     ]
    }
   ],
   "source": [
    "# Lectura del df gold\n",
    "dfGold = pd.read_csv(\"transcript_gold.csv\", sep=';', encoding='utf-8-sig')\n",
    "# Unión del gold junto con lo transcrito (raw)\n",
    "dfGR = pd.merge(dfRaw, dfGold, left_on='audio_id', right_on='clip_id', how='inner')\n",
    "\n",
    "# Carga pipeline de corrección (inglés)\n",
    "corrector = pipeline(\"text2text-generation\", model=\"vennify/t5-base-grammar-correction\")\n",
    "# Funcion de corrección por fila\n",
    "def corregir(texto):\n",
    "    if pd.isna(texto) or not isinstance(texto, str):\n",
    "        return texto\n",
    "    resultado = corrector(f\"fix: {texto}\", max_length=512)[0]['generated_text']\n",
    "    return resultado\n",
    "# Asume que la columna con errores se llama 'transcript_raw'\n",
    "dfGR[\"transcript_raw_corr\"] = dfGR[\"transcript_raw\"].apply(corregir)\n",
    "\n",
    "# Calculo der WER CER con funcion\n",
    "df_resultados = werCerDf(dfGR)"
   ]
  },
  {
   "cell_type": "markdown",
   "metadata": {},
   "source": [
    "## 3. Correccion fragmentos con diferentes modelos\n",
    "\n",
    "Se hacen pruebas con distintos modelos para la corriección. Se realiza con el algorítmo que no emplea diarización debido a que presenta menor error CER y WER"
   ]
  },
  {
   "cell_type": "code",
   "execution_count": null,
   "metadata": {},
   "outputs": [],
   "source": [
    "# Cargar modelo (Se puede usar: tiny, base, small, medium, large)\n",
    "model = whisper.load_model(\"large\")\n",
    "# Indices fragmentos para transcribir\n",
    "listaTrans = [1, 3, 5, 7, 9]\n",
    "dfRaw = pd.DataFrame()\n",
    "for i in listaTrans:\n",
    "    # Transcribir el audio\n",
    "    result = model.transcribe(f\"fragmentos/audio_parte_{i}.m4a\")\n",
    "    # Agrupa y guarda lo transcrito\n",
    "    text = result[\"text\"]\n",
    "    dfRaw.loc[i, \"audio_id\"] = i\n",
    "    dfRaw.loc[i, \"transcript_raw\"] = text\n",
    "\n",
    "# Guarda en CSV\n",
    "dfRaw.to_csv(\"transcript_raw.csv\", index=False, sep=';', encoding='utf-8')"
   ]
  },
  {
   "cell_type": "markdown",
   "metadata": {},
   "source": [
    "Modelo: vennify/t5-base-grammar-correction\n",
    "\n",
    "Basado en T5 (Text-to-Text Transfer Transformer) de Google. Aquí tienes una descripción clara:\n",
    "\n",
    "Tipo de modelo\n",
    "Base: t5-base (220M parámetros)\n",
    "Arquitectura: Encoder-Decoder (Text-to-Text)\n",
    "Entrenado para: Corrección gramatical en inglés\n",
    "Enfoque: Dado un texto de entrada con errores, el modelo genera una versión corregida.\n",
    "Ejemplo de entrada: \"fix: she no went to the market.\"\n",
    "Salida: \"she did not go to the market.\""
   ]
  },
  {
   "cell_type": "code",
   "execution_count": null,
   "metadata": {},
   "outputs": [
    {
     "name": "stderr",
     "output_type": "stream",
     "text": [
      "Device set to use cuda:0\n",
      "Both `max_new_tokens` (=256) and `max_length`(=512) seem to have been set. `max_new_tokens` will take precedence. Please refer to the documentation for more information. (https://huggingface.co/docs/transformers/main/en/main_classes/text_generation)\n",
      "Both `max_new_tokens` (=256) and `max_length`(=512) seem to have been set. `max_new_tokens` will take precedence. Please refer to the documentation for more information. (https://huggingface.co/docs/transformers/main/en/main_classes/text_generation)\n",
      "Both `max_new_tokens` (=256) and `max_length`(=512) seem to have been set. `max_new_tokens` will take precedence. Please refer to the documentation for more information. (https://huggingface.co/docs/transformers/main/en/main_classes/text_generation)\n",
      "Both `max_new_tokens` (=256) and `max_length`(=512) seem to have been set. `max_new_tokens` will take precedence. Please refer to the documentation for more information. (https://huggingface.co/docs/transformers/main/en/main_classes/text_generation)\n",
      "Both `max_new_tokens` (=256) and `max_length`(=512) seem to have been set. `max_new_tokens` will take precedence. Please refer to the documentation for more information. (https://huggingface.co/docs/transformers/main/en/main_classes/text_generation)\n"
     ]
    },
    {
     "name": "stdout",
     "output_type": "stream",
     "text": [
      "\n",
      "\n",
      "   audio_id  WER_raw  WER_corr  CER_raw  CER_corr  WER_mejora_%  CER_mejora_%\n",
      "0       1.0     0.29      0.25     0.20      0.20         15.79         -1.39\n",
      "1       3.0     0.46      0.43     0.29      0.30          8.00         -6.59\n",
      "2       5.0     0.40      0.44     0.22      0.24         -9.52         -7.94\n",
      "3       7.0     0.60      0.58     0.40      0.39          2.70          3.23\n",
      "4       9.0     0.16      0.15     0.09      0.06         11.11         34.62\n",
      "\n",
      "WER_mejora_%: 5.62\n",
      "CER_mejora_%: 4.38\n",
      "WER_raw_mean: 0.38\n",
      "CER_raw_mean: 0.24\n",
      "WER_corr_mean: 0.37\n",
      "CER_corr_mean: 0.24\n"
     ]
    }
   ],
   "source": [
    "# MODELO BASE SIN BUSQUEDA HIPERPARÁMETROS (vennify/t5-base-grammar-correction)\n",
    "\n",
    "# Carga pipeline de corrección (inglés)\n",
    "corrector = pipeline(\"text2text-generation\", model=\"vennify/t5-base-grammar-correction\")\n",
    "# Funcion de corrección por fila\n",
    "def corregir(texto):\n",
    "    if pd.isna(texto) or not isinstance(texto, str):\n",
    "        return texto\n",
    "    resultado = corrector(f\"fix: {texto}\", max_length=512)[0]['generated_text']\n",
    "    return resultado\n",
    "# Asume que la columna con errores se llama 'transcript_raw'\n",
    "dfGR[\"transcript_raw_corr\"] = dfGR[\"transcript_raw\"].apply(corregir)\n",
    "\n",
    "# Calculo der WER CER con funcion\n",
    "df_resultados = werCerDf(dfGR)"
   ]
  },
  {
   "cell_type": "markdown",
   "metadata": {},
   "source": [
    "prithivida/grammar_error_correcter_v1"
   ]
  },
  {
   "cell_type": "code",
   "execution_count": null,
   "metadata": {},
   "outputs": [
    {
     "name": "stderr",
     "output_type": "stream",
     "text": [
      "Device set to use cuda:0\n",
      "Both `max_new_tokens` (=256) and `max_length`(=512) seem to have been set. `max_new_tokens` will take precedence. Please refer to the documentation for more information. (https://huggingface.co/docs/transformers/main/en/main_classes/text_generation)\n",
      "Both `max_new_tokens` (=256) and `max_length`(=512) seem to have been set. `max_new_tokens` will take precedence. Please refer to the documentation for more information. (https://huggingface.co/docs/transformers/main/en/main_classes/text_generation)\n",
      "Both `max_new_tokens` (=256) and `max_length`(=512) seem to have been set. `max_new_tokens` will take precedence. Please refer to the documentation for more information. (https://huggingface.co/docs/transformers/main/en/main_classes/text_generation)\n",
      "Both `max_new_tokens` (=256) and `max_length`(=512) seem to have been set. `max_new_tokens` will take precedence. Please refer to the documentation for more information. (https://huggingface.co/docs/transformers/main/en/main_classes/text_generation)\n",
      "Both `max_new_tokens` (=256) and `max_length`(=512) seem to have been set. `max_new_tokens` will take precedence. Please refer to the documentation for more information. (https://huggingface.co/docs/transformers/main/en/main_classes/text_generation)\n"
     ]
    },
    {
     "name": "stdout",
     "output_type": "stream",
     "text": [
      "\n",
      "\n",
      "   audio_id  WER_raw  WER_corr  CER_raw  CER_corr  WER_mejora_%  CER_mejora_%\n",
      "0       1.0     0.29      0.66     0.20      0.68       -126.32       -240.28\n",
      "1       3.0     0.46      0.44     0.29      0.29          4.00         -1.10\n",
      "2       5.0     0.40      0.63     0.22      0.45        -57.14       -103.17\n",
      "3       7.0     0.60      0.58     0.40      0.44          2.70        -10.48\n",
      "4       9.0     0.16      0.29     0.09      0.24        -77.78       -176.92\n",
      "\n",
      "WER_mejora_%: -50.91\n",
      "CER_mejora_%: -106.39\n",
      "WER_raw_mean: 0.38\n",
      "CER_raw_mean: 0.24\n",
      "WER_corr_mean: 0.52\n",
      "CER_corr_mean: 0.42\n"
     ]
    }
   ],
   "source": [
    "# MODELO BASE SIN BUSQUEDA HIPERPARÁMETROS ()\n",
    "\n",
    "# Carga pipeline de corrección (inglés)\n",
    "corrector = pipeline(\"text2text-generation\", model=\"prithivida/grammar_error_correcter_v1\")\n",
    "# Funcion de corrección por fila\n",
    "def corregir(texto):\n",
    "    if pd.isna(texto) or not isinstance(texto, str):\n",
    "        return texto\n",
    "    resultado = corrector(f\"fix: {texto}\", max_length=512)[0]['generated_text']\n",
    "    return resultado\n",
    "# Asume que la columna con errores se llama 'transcript_raw'\n",
    "dfGR[\"transcript_raw_corr\"] = dfGR[\"transcript_raw\"].apply(corregir)\n",
    "\n",
    "# Calculo der WER CER con funcion\n",
    "df_resultados = werCerDf(dfGR)"
   ]
  },
  {
   "cell_type": "markdown",
   "metadata": {},
   "source": [
    "google/flan-t5-small"
   ]
  },
  {
   "cell_type": "code",
   "execution_count": null,
   "metadata": {},
   "outputs": [
    {
     "name": "stderr",
     "output_type": "stream",
     "text": [
      "Device set to use cuda:0\n",
      "Both `max_new_tokens` (=256) and `max_length`(=512) seem to have been set. `max_new_tokens` will take precedence. Please refer to the documentation for more information. (https://huggingface.co/docs/transformers/main/en/main_classes/text_generation)\n",
      "Both `max_new_tokens` (=256) and `max_length`(=512) seem to have been set. `max_new_tokens` will take precedence. Please refer to the documentation for more information. (https://huggingface.co/docs/transformers/main/en/main_classes/text_generation)\n",
      "Both `max_new_tokens` (=256) and `max_length`(=512) seem to have been set. `max_new_tokens` will take precedence. Please refer to the documentation for more information. (https://huggingface.co/docs/transformers/main/en/main_classes/text_generation)\n",
      "Both `max_new_tokens` (=256) and `max_length`(=512) seem to have been set. `max_new_tokens` will take precedence. Please refer to the documentation for more information. (https://huggingface.co/docs/transformers/main/en/main_classes/text_generation)\n",
      "Both `max_new_tokens` (=256) and `max_length`(=512) seem to have been set. `max_new_tokens` will take precedence. Please refer to the documentation for more information. (https://huggingface.co/docs/transformers/main/en/main_classes/text_generation)\n"
     ]
    },
    {
     "name": "stdout",
     "output_type": "stream",
     "text": [
      "\n",
      "\n",
      "   audio_id  WER_raw  WER_corr  CER_raw  CER_corr  WER_mejora_%  CER_mejora_%\n",
      "0       1.0     0.29      0.29     0.20      0.20           0.0           0.0\n",
      "1       3.0     0.46      0.46     0.29      0.29           0.0           0.0\n",
      "2       5.0     0.40      0.40     0.22      0.22           0.0           0.0\n",
      "3       7.0     0.60      0.60     0.40      0.40           0.0           0.0\n",
      "4       9.0     0.16      0.16     0.09      0.09           0.0           0.0\n",
      "\n",
      "WER_mejora_%: 0.00\n",
      "CER_mejora_%: 0.00\n",
      "WER_raw_mean: 0.38\n",
      "CER_raw_mean: 0.24\n",
      "WER_corr_mean: 0.38\n",
      "CER_corr_mean: 0.24\n"
     ]
    }
   ],
   "source": [
    "# Carga pipeline de corrección (inglés)\n",
    "corrector = pipeline(\"text2text-generation\", model=\"google/flan-t5-small\")\n",
    "# Funcion de corrección por fila\n",
    "def corregir(texto):\n",
    "    if pd.isna(texto) or not isinstance(texto, str):\n",
    "        return texto\n",
    "    resultado = corrector(f\"Correct grammar: {texto}\", max_length=512)[0]['generated_text']\n",
    "    return resultado\n",
    "# Asume que la columna con errores se llama 'transcript_raw'\n",
    "dfGR[\"transcript_raw_corr\"] = dfGR[\"transcript_raw\"].apply(corregir)\n",
    "\n",
    "# Calculo der WER CER con funcion\n",
    "df_resultados = werCerDf(dfGR)"
   ]
  },
  {
   "cell_type": "markdown",
   "metadata": {},
   "source": [
    "## 4. Evaluación cuantitativa "
   ]
  },
  {
   "cell_type": "code",
   "execution_count": null,
   "metadata": {},
   "outputs": [
    {
     "name": "stdout",
     "output_type": "stream",
     "text": [
      "   audio_id   WER_raw  WER_corr   CER_raw  CER_corr  WER_mejora_%  \\\n",
      "0       1.0  0.292308  0.246154  0.199446  0.202216     15.789474   \n",
      "1       3.0  0.462963  0.425926  0.285266  0.304075      8.000000   \n",
      "2       5.0  0.403846  0.442308  0.220280  0.237762     -9.523810   \n",
      "3       7.0  0.596774  0.580645  0.401294  0.388350      2.702703   \n",
      "4       9.0  0.163636  0.145455  0.086957  0.056856     11.111111   \n",
      "\n",
      "   CER_mejora_%  \n",
      "0     -1.388889  \n",
      "1     -6.593407  \n",
      "2     -7.936508  \n",
      "3      3.225806  \n",
      "4     34.615385  \n"
     ]
    },
    {
     "data": {
      "image/png": "[encoded data removed]",
      "text/plain": [
       "<Figure size 1400x1000 with 2 Axes>"
      ]
     },
     "metadata": {},
     "output_type": "display_data"
    }
   ],
   "source": [
    "# Tamaños para posiciones para el eje x\n",
    "x = np.arange(len(df_resultados_mejor))\n",
    "# Ancho de las barras\n",
    "width = 0.35  \n",
    "# Crear subplots\n",
    "fig, axs = plt.subplots(2, 1, figsize=(14, 10), sharex=True)\n",
    "# Gráfico de barras para WER\n",
    "axs[0].bar(x - width/2, df_resultados[\"WER_raw\"], width, label=\"WER raw\")\n",
    "axs[0].bar(x + width/2, df_resultados[\"WER_corr\"], width, label=\"WER corregido\")\n",
    "axs[0].set_ylabel(\"WER\")\n",
    "axs[0].set_title(\"WER antes y después de la corrección\")\n",
    "axs[0].legend()\n",
    "axs[0].grid(axis='y')\n",
    "# Gráfico de barras para CER\n",
    "axs[1].bar(x - width/2, df_resultados[\"CER_raw\"], width, label=\"CER raw\")\n",
    "axs[1].bar(x + width/2, df_resultados[\"CER_corr\"], width, label=\"CER corregido\")\n",
    "axs[1].set_ylabel(\"CER\")\n",
    "axs[1].set_title(\"CER antes y después de la corrección\")\n",
    "axs[1].set_xticks(x)\n",
    "axs[1].set_xticklabels(df_resultados[\"audio_id\"], rotation=45)\n",
    "axs[1].legend()\n",
    "axs[1].grid(axis='y')\n",
    "\n",
    "print(df_resultados_mejor)"
   ]
  },
  {
   "cell_type": "markdown",
   "metadata": {},
   "source": [
    "## 5. Insights pedagógicos"
   ]
  },
  {
   "cell_type": "code",
   "execution_count": null,
   "metadata": {},
   "outputs": [
    {
     "name": "stdout",
     "output_type": "stream",
     "text": [
      "[('+ a', 3), ('- go', 2), ('+ Tomorrow', 1), ('+ is', 1), ('- tomorrow', 1), ('- sorry', 1), ('- ahead.', 1), ('- Yeah,', 1), ('- tomorrow.', 1), ('- Tell', 1)]\n"
     ]
    }
   ],
   "source": [
    "dfGR = pd.read_csv(\"transcripciones_corregidas.csv\", sep=';')\n",
    "\n",
    "# Funcion para extraer cambios\n",
    "def extraer_cambios(raw, corr):\n",
    "    # Devuelve la diferencia entre los dos grupos de palabras\n",
    "    diff = ndiff(raw.split(), corr.split())\n",
    "    # Crea lista donde deja solo los que tienen cambios\n",
    "    cambios = [d for d in diff if d.startswith('- ') or d.startswith('+ ')]\n",
    "    return cambios\n",
    "\n",
    "# Guarda en lista todos los errores encontrados\n",
    "errores = []\n",
    "for i in range(len(dfGR)):\n",
    "    # Aplica funcion\n",
    "    cambios = extraer_cambios(dfGR.loc[i, \"transcript_raw\"], dfGR.loc[i, \"transcript_raw_corr\"])\n",
    "    # Concatena lo encontrado\n",
    "    errores.extend(cambios)\n",
    "# Cuenta los elementos repetidos en lista\n",
    "conteo_errores = Counter(errores)\n",
    "print(conteo_errores.most_common(10))\n"
   ]
  },
  {
   "cell_type": "code",
   "execution_count": null,
   "metadata": {},
   "outputs": [
    {
     "name": "stdout",
     "output_type": "stream",
     "text": [
      "    palabra  # correcciones  # adiciones  # eliminaciones\n",
      "0         a               3            3                0\n",
      "1         I               2            1                1\n",
      "2        go               2            0                2\n",
      "3  Tomorrow               1            1                0\n",
      "4        is               1            1                0\n"
     ]
    }
   ],
   "source": [
    "# Diccionario para almacenar resultados\n",
    "conteo = {}\n",
    "for item, count in conteo_errores.items():\n",
    "    tipo = item[0]  # '+' o '-'\n",
    "    palabra = item[2:]  # quita el signo y espacio\n",
    "    if palabra not in conteo:\n",
    "        conteo[palabra] = {\"# adiciones\": 0, \"# eliminaciones\": 0}\n",
    "    if tipo == '+':\n",
    "        conteo[palabra][\"# adiciones\"] += count\n",
    "    elif tipo == '-':\n",
    "        conteo[palabra][\"# eliminaciones\"] += count\n",
    "# Crear DataFrame\n",
    "df = pd.DataFrame.from_dict(conteo, orient='index').reset_index()\n",
    "df = df.rename(columns={\"index\": \"palabra\"})\n",
    "# Crear columna de correcciones como suma de adiciones y eliminaciones\n",
    "df[\"# correcciones\"] = df[\"# adiciones\"] + df[\"# eliminaciones\"]\n",
    "# Reorganiza columnas\n",
    "df = df[[\"palabra\", \"# correcciones\", \"# adiciones\", \"# eliminaciones\"]]\n",
    "df = df.sort_values('# correcciones', ascending=False).reset_index(drop=True)\n",
    "print(df.head())"
   ]
  },
  {
   "cell_type": "markdown",
   "metadata": {},
   "source": [
    "## 6. Requiriments"
   ]
  },
  {
   "cell_type": "code",
   "execution_count": null,
   "metadata": {},
   "outputs": [
    {
     "name": "stdout",
     "output_type": "stream",
     "text": [
      "✅ Archivo requirements.txt generado con éxito.\n"
     ]
    }
   ],
   "source": [
    "import subprocess\n",
    "\n",
    "# Ejecuta pip freeze y guarda la salida en requirements.txt\n",
    "with open('requirements.txt', 'w') as f:\n",
    "    subprocess.run(['pip', 'freeze'], stdout=f)\n",
    "\n",
    "print(\"✅ Archivo requirements.txt generado con éxito.\")"
   ]
  }
 ],
 "metadata": {
  "kernelspec": {
   "display_name": "python3.9",
   "language": "python",
   "name": "python3"
  },
  "language_info": {
   "codemirror_mode": {
    "name": "ipython",
    "version": 3
   },
   "file_extension": ".py",
   "mimetype": "text/x-python",
   "name": "python",
   "nbconvert_exporter": "python",
   "pygments_lexer": "ipython3",
   "version": "3.9.21"
  }
 },
 "nbformat": 4,
 "nbformat_minor": 2
}
